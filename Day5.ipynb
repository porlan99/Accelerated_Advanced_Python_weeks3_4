{
 "cells": [
  {
   "cell_type": "markdown",
   "metadata": {},
   "source": [
    "# Day 5  | First week task\n",
    "\n",
    "Lets put our knowledge into action by tackling following tasks: \n",
    "\n",
    "\n",
    "- Load time lapse fluorescence data from Matlab file \"task1.mat\" that is in the main course folder. Data are stored in two matrices: *x_norm* contains trajectories and *t* is a time vector\n",
    "\n",
    "- Plot (with labels) example cell tracetories | Tip: transpose the loaded data to get first dimension the same\n",
    "\n",
    "- Find peaks in each trajectories usin scipy library functions | Tip: Search for suitable functions in scipy manual\n",
    "\n",
    "- Calculate amplitude and period of oscillations | Tip: the period of oscillation is a distance between peaks in a single cell trajectory\n",
    "\n",
    "- Draw histograms of period distribution\n",
    "\n",
    "- Plot amplitude vs period with labels \n",
    "\n",
    "- Select ten cell trajectiories with the smallest periods and plot those as a heat map \n",
    "\n",
    "- Perform frequency analysis using FFT Fourier transformation and identify a dominant frequency in the signal\n"
   ]
  },
  {
   "cell_type": "code",
   "execution_count": null,
   "metadata": {
    "scrolled": true
   },
   "outputs": [],
   "source": [
    "#import necessary tools, please add yourself here whatever you think you might need to solve the task\n",
    "\n",
    "#basics\n",
    "import numpy as np\n",
    "import scipy.io as sio\n",
    "import matplotlib.pyplot as plotter\n",
    "from scipy.fftpack import fft\n",
    "from scipy.signal import find_peaks\n",
    "\n",
    "\n",
    "data = sio.loadmat('./task1.mat')\n",
    "\n",
    "x = np.transpose(data['x_norm'])\n",
    "time = np.transpose(data['t'])\n",
    "x.shape\n",
    "\n"
   ]
  },
  {
   "cell_type": "code",
   "execution_count": null,
   "metadata": {
    "scrolled": true
   },
   "outputs": [],
   "source": [
    "#Define the function to plot the cells tracetories\n",
    "def tracetories(t, fluo, n):\n",
    "    plotter.plot(t,fluo[:,n])\n",
    "    plotter.xlim(0, 180);\n",
    "    plotter.title(\"Cell tracetories\")\n",
    "    plotter.xlabel(\"Time (s)\")\n",
    "    plotter.ylabel(\"Fluorescense\");\n",
    "    \n",
    "#Select the columns(cells) to plot   \n",
    "reps = range(5)\n",
    "\n",
    "#Plot using the function\n",
    "tracetories(time, x, reps)\n",
    "time.shape"
   ]
  },
  {
   "cell_type": "code",
   "execution_count": null,
   "metadata": {},
   "outputs": [],
   "source": [
    "x[:,500]"
   ]
  },
  {
   "cell_type": "code",
   "execution_count": null,
   "metadata": {},
   "outputs": [],
   "source": [
    "fig = plotter.figure()\n",
    "plotter.style.use('classic')\n",
    "plotter.imshow(x[:,:].T, aspect='auto',origin='lower',\n",
    "           cmap='jet')\n",
    "plotter.colorbar()\n",
    "plotter.clim(0,1)"
   ]
  },
  {
   "cell_type": "code",
   "execution_count": null,
   "metadata": {},
   "outputs": [],
   "source": [
    "#Define function to catch the peaks of n cells\n",
    "def peak(fval,n):\n",
    "    #Create a dictionary to catch the peaks indexes of each cell\n",
    "    #key: number of cell\n",
    "    #value: index of peaks\n",
    "    peaks = {}\n",
    "    #Search the peaks of the different cells (n columns) and add it to the list\n",
    "    for i in range(n):\n",
    "        peak = find_peaks(fval[:,i], height=None, threshold=None, distance=None, prominence=None, width=None, wlen=None, rel_height=0.5, plateau_size=None)\n",
    "        peaks[i] = peak[0]\n",
    "    \n",
    "    #Catch the list of peaks\n",
    "    return peaks\n",
    "\n",
    "#Call the function and catch the result\n",
    "peaks = peak(x,501)\n"
   ]
  },
  {
   "cell_type": "code",
   "execution_count": null,
   "metadata": {},
   "outputs": [],
   "source": [
    "peaks\n"
   ]
  },
  {
   "cell_type": "code",
   "execution_count": null,
   "metadata": {},
   "outputs": [],
   "source": [
    "x[:,3]"
   ]
  },
  {
   "cell_type": "code",
   "execution_count": null,
   "metadata": {
    "scrolled": true
   },
   "outputs": [],
   "source": [
    "#Dictionary with the fluorescence values of each cell\n",
    "#key: number of cell\n",
    "#value: fluorescence values of peaks\n",
    "peakval = {}\n",
    "\n",
    "#Number of cells\n",
    "ncells = len(peaks)\n",
    "\n",
    "#loop for the cells\n",
    "for i in range(ncells):\n",
    "    #number of peaks in the cell\n",
    "    npeaks = len(peaks[i])\n",
    "    #values to save the flu values of each cell\n",
    "    values = []\n",
    "    #if the cell have no peaks, add a 0 in the dic\n",
    "    if npeaks == 0:\n",
    "        peakval[i] = [0]\n",
    "    #if the cell have peak(s)\n",
    "    else:\n",
    "        #loop for the indexes of each cell peaks\n",
    "        for j in range(npeaks):\n",
    "            #catch the index to search \n",
    "            index = peaks[i][j]\n",
    "        \n",
    "            #if the peak is not the last I add it\n",
    "            if j != (npeaks-1):\n",
    "                values.append(x[index,i])\n",
    "            #if it is the last peak, add it and save into the dic\n",
    "            else:\n",
    "                values.append(x[index,i])\n",
    "                peakval[i] = values\n",
    "#show the dict\n",
    "peakval"
   ]
  },
  {
   "cell_type": "code",
   "execution_count": null,
   "metadata": {},
   "outputs": [],
   "source": [
    "###Calculate the amplitude\n",
    "#New dictionary\n",
    "#key: cell number\n",
    "#value: amplitude value of the cell\n",
    "amplitudes = {}\n",
    "\n",
    "#loop for the cells\n",
    "for i in range(len(peakval)):\n",
    "    #calculate the amplitude value for each cell\n",
    "    amp = np.mean(peakval[i])\n",
    "    #add it to the dic\n",
    "    amplitudes[i] = amp\n",
    "#show the dict\n",
    "amplitudes"
   ]
  },
  {
   "cell_type": "code",
   "execution_count": null,
   "metadata": {},
   "outputs": [],
   "source": [
    "#list with amplitude means \n",
    "amplitude_list = []\n",
    "#loop with every cell\n",
    "for i in range(len(amplitudes)):\n",
    "    #add the mean value to the list\n",
    "    amplitude_list.append(amplitudes[i])\n",
    "\n",
    "#show list\n",
    "amplitude_list"
   ]
  },
  {
   "cell_type": "code",
   "execution_count": null,
   "metadata": {},
   "outputs": [],
   "source": [
    "#Dictionary with the time values of each cell\n",
    "#key: number of cell\n",
    "#value: time values of peaks\n",
    "timeval = {}\n",
    "\n",
    "#Number of cells\n",
    "ncells = len(peaks)\n",
    "\n",
    "#loop for the cells\n",
    "for i in range(ncells):\n",
    "    #number of peaks in the cell\n",
    "    npeaks = len(peaks[i])\n",
    "    #values to save the flu values of each cell\n",
    "    values = []\n",
    "    #if the cell have no peaks, add a 0 in the dic\n",
    "    if npeaks == 0:\n",
    "        timeval[i] = [0]\n",
    "    #if the cell have peak(s)\n",
    "    else:\n",
    "        #loop for the indexes of each cell peaks\n",
    "        for j in range(npeaks):\n",
    "            #catch the index to search \n",
    "            index = peaks[i][j]\n",
    "        \n",
    "            #if the peak is not the last I add it\n",
    "            if j != (npeaks-1):\n",
    "                values.append(time[index,0])\n",
    "            #if it is the last peak, add it and save into the dic\n",
    "            else:\n",
    "                values.append(time[index,0])\n",
    "                timeval[i] = values\n",
    "#show the dict\n",
    "timeval"
   ]
  },
  {
   "cell_type": "code",
   "execution_count": null,
   "metadata": {},
   "outputs": [],
   "source": [
    "timeval"
   ]
  },
  {
   "cell_type": "code",
   "execution_count": null,
   "metadata": {},
   "outputs": [],
   "source": [
    "###Create a dictionary with the periods of each cell\n",
    "#key: cell number\n",
    "#value: periods of each cell peaks\n",
    "periods = {}\n",
    "\n",
    "#loop for the cells\n",
    "for i in range(len(timeval)):\n",
    "    #list to catch the periods\n",
    "    perval = []\n",
    "    #if 0 or 1 peak there is no period\n",
    "    if len(timeval[i]) < 2:\n",
    "        periods[i] = 0\n",
    "    #if there are more than 1 peak, calculate the periods\n",
    "    else:\n",
    "        #loop for the times of each cell (there is 1 period less than peaks)\n",
    "        for j in range(len(timeval[i])-1):\n",
    "            #add the period to the list\n",
    "            perval.append(timeval[i][j+1]-timeval[i][j])\n",
    "            #if it is the last one, save the list of periods\n",
    "            if j == (len(timeval[i])-2):\n",
    "                periods[i] = perval\n",
    "#show the dict                \n",
    "periods\n"
   ]
  },
  {
   "cell_type": "code",
   "execution_count": null,
   "metadata": {},
   "outputs": [],
   "source": [
    "#Dictionary\n",
    "#key: cell\n",
    "#value: period mean\n",
    "periodmean = {}\n",
    "#loop for the cells\n",
    "for i in range(len(periods)):\n",
    "    #calculate the amplitude value for each cell\n",
    "    per = np.mean(periods[i])\n",
    "    #add it to the dic\n",
    "    periodmean[i] = per\n",
    "#show the dict\n",
    "periodmean"
   ]
  },
  {
   "cell_type": "code",
   "execution_count": null,
   "metadata": {},
   "outputs": [],
   "source": [
    "#Histogram of period distribution\n",
    "#list with period means to create the histogram\n",
    "hist_data = []\n",
    "#loop with every cell\n",
    "for i in range(len(periodmean)):\n",
    "    #add the mean value to the list\n",
    "    hist_data.append(periodmean[i])   \n",
    "#show the list\n",
    "#hist_data\n",
    "ç\n",
    "#plot the values\n",
    "plotter.hist(hist_data, bins=100, alpha=1,\n",
    "         histtype='bar', color='steelblue',\n",
    "         edgecolor='g');\n",
    "\n",
    "#STUDENTS NOTE\n",
    "#### \"0\" values are related with the cells that have no period because they only have 0 or 1 peak.\n",
    "### It could be remove but we have considered that it has to be represented \n",
    "### even thought these are not real period values"
   ]
  },
  {
   "cell_type": "code",
   "execution_count": 95,
   "metadata": {},
   "outputs": [
    {
     "data": {
      "image/png": "[encoded data removed]",
      "text/plain": [
       "<Figure size 432x288 with 1 Axes>"
      ]
     },
     "metadata": {
      "needs_background": "light"
     },
     "output_type": "display_data"
    }
   ],
   "source": [
    "#Define the function to plot amplitude vs period\n",
    "def ampvsper(x, y):\n",
    "    plotter.scatter(x, y)\n",
    "    #plotter.xlim(0, 180);\n",
    "    plotter.title(\"Amplitude vs Period\")\n",
    "    plotter.ylabel(\"Amplitude\")\n",
    "    plotter.xlabel(\"Period\");\n",
    "    \n",
    "\n",
    "#Plot using the function\n",
    "ampvsper(hist_data, amplitude_list)\n",
    "\n",
    "\n",
    "## Students NOTE\n",
    "#There are many cells with nule period but amplitude value.\n",
    "#The reason is that some of them have an unique peak, so there is no preiod value."
   ]
  },
  {
   "cell_type": "code",
   "execution_count": null,
   "metadata": {},
   "outputs": [],
   "source": []
  },
  {
   "cell_type": "code",
   "execution_count": null,
   "metadata": {},
   "outputs": [],
   "source": []
  },
  {
   "cell_type": "code",
   "execution_count": null,
   "metadata": {},
   "outputs": [],
   "source": []
  },
  {
   "cell_type": "code",
   "execution_count": null,
   "metadata": {},
   "outputs": [],
   "source": []
  }
 ],
 "metadata": {
  "kernelspec": {
   "display_name": "Python 3",
   "language": "python",
   "name": "python3"
  },
  "language_info": {
   "codemirror_mode": {
    "name": "ipython",
    "version": 3
   },
   "file_extension": ".py",
   "mimetype": "text/x-python",
   "name": "python",
   "nbconvert_exporter": "python",
   "pygments_lexer": "ipython3",
   "version": "3.7.3"
  }
 },
 "nbformat": 4,
 "nbformat_minor": 2
}
